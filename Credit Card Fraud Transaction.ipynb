{
 "cells": [
  {
   "cell_type": "markdown",
   "metadata": {},
   "source": [
    "# Credit Card Fraud Detection"
   ]
  },
  {
   "cell_type": "markdown",
   "metadata": {},
   "source": [
    "Importing Libraries"
   ]
  },
  {
   "cell_type": "code",
   "execution_count": 69,
   "metadata": {},
   "outputs": [],
   "source": [
    "import pandas as pd\n",
    "import numpy as np\n",
    "import matplotlib.pyplot as plt\n",
    "import seaborn as sns\n",
    "from sklearn.model_selection import train_test_split\n",
    "from sklearn.metrics import accuracy_score, confusion_matrix, precision_score, recall_score, f1_score\n",
    "from xgboost import XGBClassifier\n",
    "import scipy as sp\n",
    "from sklearn.pipeline import Pipeline\n",
    "from sklearn.preprocessing import StandardScaler\n",
    "from sklearn.linear_model import SGDClassifier\n",
    "from sklearn.metrics import confusion_matrix, classification_report, matthews_corrcoef, cohen_kappa_score, accuracy_score, average_precision_score, roc_auc_score\n",
    "from sklearn.ensemble import RandomForestClassifier\n",
    "from sklearn.model_selection import GridSearchCV\n",
    "from sklearn.metrics import make_scorer, matthews_corrcoef\n"
   ]
  },
  {
   "cell_type": "code",
   "execution_count": 70,
   "metadata": {},
   "outputs": [
    {
     "data": {
      "text/html": [
       "<div>\n",
       "<style scoped>\n",
       "    .dataframe tbody tr th:only-of-type {\n",
       "        vertical-align: middle;\n",
       "    }\n",
       "\n",
       "    .dataframe tbody tr th {\n",
       "        vertical-align: top;\n",
       "    }\n",
       "\n",
       "    .dataframe thead th {\n",
       "        text-align: right;\n",
       "    }\n",
       "</style>\n",
       "<table border=\"1\" class=\"dataframe\">\n",
       "  <thead>\n",
       "    <tr style=\"text-align: right;\">\n",
       "      <th></th>\n",
       "      <th>Time</th>\n",
       "      <th>V1</th>\n",
       "      <th>V2</th>\n",
       "      <th>V3</th>\n",
       "      <th>V4</th>\n",
       "      <th>V5</th>\n",
       "      <th>V6</th>\n",
       "      <th>V7</th>\n",
       "      <th>V8</th>\n",
       "      <th>V9</th>\n",
       "      <th>...</th>\n",
       "      <th>V21</th>\n",
       "      <th>V22</th>\n",
       "      <th>V23</th>\n",
       "      <th>V24</th>\n",
       "      <th>V25</th>\n",
       "      <th>V26</th>\n",
       "      <th>V27</th>\n",
       "      <th>V28</th>\n",
       "      <th>Amount</th>\n",
       "      <th>Class</th>\n",
       "    </tr>\n",
       "  </thead>\n",
       "  <tbody>\n",
       "    <tr>\n",
       "      <th>0</th>\n",
       "      <td>0.0</td>\n",
       "      <td>-1.359807</td>\n",
       "      <td>-0.072781</td>\n",
       "      <td>2.536347</td>\n",
       "      <td>1.378155</td>\n",
       "      <td>-0.338321</td>\n",
       "      <td>0.462388</td>\n",
       "      <td>0.239599</td>\n",
       "      <td>0.098698</td>\n",
       "      <td>0.363787</td>\n",
       "      <td>...</td>\n",
       "      <td>-0.018307</td>\n",
       "      <td>0.277838</td>\n",
       "      <td>-0.110474</td>\n",
       "      <td>0.066928</td>\n",
       "      <td>0.128539</td>\n",
       "      <td>-0.189115</td>\n",
       "      <td>0.133558</td>\n",
       "      <td>-0.021053</td>\n",
       "      <td>149.62</td>\n",
       "      <td>0</td>\n",
       "    </tr>\n",
       "    <tr>\n",
       "      <th>1</th>\n",
       "      <td>0.0</td>\n",
       "      <td>1.191857</td>\n",
       "      <td>0.266151</td>\n",
       "      <td>0.166480</td>\n",
       "      <td>0.448154</td>\n",
       "      <td>0.060018</td>\n",
       "      <td>-0.082361</td>\n",
       "      <td>-0.078803</td>\n",
       "      <td>0.085102</td>\n",
       "      <td>-0.255425</td>\n",
       "      <td>...</td>\n",
       "      <td>-0.225775</td>\n",
       "      <td>-0.638672</td>\n",
       "      <td>0.101288</td>\n",
       "      <td>-0.339846</td>\n",
       "      <td>0.167170</td>\n",
       "      <td>0.125895</td>\n",
       "      <td>-0.008983</td>\n",
       "      <td>0.014724</td>\n",
       "      <td>2.69</td>\n",
       "      <td>0</td>\n",
       "    </tr>\n",
       "    <tr>\n",
       "      <th>2</th>\n",
       "      <td>1.0</td>\n",
       "      <td>-1.358354</td>\n",
       "      <td>-1.340163</td>\n",
       "      <td>1.773209</td>\n",
       "      <td>0.379780</td>\n",
       "      <td>-0.503198</td>\n",
       "      <td>1.800499</td>\n",
       "      <td>0.791461</td>\n",
       "      <td>0.247676</td>\n",
       "      <td>-1.514654</td>\n",
       "      <td>...</td>\n",
       "      <td>0.247998</td>\n",
       "      <td>0.771679</td>\n",
       "      <td>0.909412</td>\n",
       "      <td>-0.689281</td>\n",
       "      <td>-0.327642</td>\n",
       "      <td>-0.139097</td>\n",
       "      <td>-0.055353</td>\n",
       "      <td>-0.059752</td>\n",
       "      <td>378.66</td>\n",
       "      <td>0</td>\n",
       "    </tr>\n",
       "    <tr>\n",
       "      <th>3</th>\n",
       "      <td>1.0</td>\n",
       "      <td>-0.966272</td>\n",
       "      <td>-0.185226</td>\n",
       "      <td>1.792993</td>\n",
       "      <td>-0.863291</td>\n",
       "      <td>-0.010309</td>\n",
       "      <td>1.247203</td>\n",
       "      <td>0.237609</td>\n",
       "      <td>0.377436</td>\n",
       "      <td>-1.387024</td>\n",
       "      <td>...</td>\n",
       "      <td>-0.108300</td>\n",
       "      <td>0.005274</td>\n",
       "      <td>-0.190321</td>\n",
       "      <td>-1.175575</td>\n",
       "      <td>0.647376</td>\n",
       "      <td>-0.221929</td>\n",
       "      <td>0.062723</td>\n",
       "      <td>0.061458</td>\n",
       "      <td>123.50</td>\n",
       "      <td>0</td>\n",
       "    </tr>\n",
       "    <tr>\n",
       "      <th>4</th>\n",
       "      <td>2.0</td>\n",
       "      <td>-1.158233</td>\n",
       "      <td>0.877737</td>\n",
       "      <td>1.548718</td>\n",
       "      <td>0.403034</td>\n",
       "      <td>-0.407193</td>\n",
       "      <td>0.095921</td>\n",
       "      <td>0.592941</td>\n",
       "      <td>-0.270533</td>\n",
       "      <td>0.817739</td>\n",
       "      <td>...</td>\n",
       "      <td>-0.009431</td>\n",
       "      <td>0.798278</td>\n",
       "      <td>-0.137458</td>\n",
       "      <td>0.141267</td>\n",
       "      <td>-0.206010</td>\n",
       "      <td>0.502292</td>\n",
       "      <td>0.219422</td>\n",
       "      <td>0.215153</td>\n",
       "      <td>69.99</td>\n",
       "      <td>0</td>\n",
       "    </tr>\n",
       "  </tbody>\n",
       "</table>\n",
       "<p>5 rows × 31 columns</p>\n",
       "</div>"
      ],
      "text/plain": [
       "   Time        V1        V2        V3        V4        V5        V6        V7  \\\n",
       "0   0.0 -1.359807 -0.072781  2.536347  1.378155 -0.338321  0.462388  0.239599   \n",
       "1   0.0  1.191857  0.266151  0.166480  0.448154  0.060018 -0.082361 -0.078803   \n",
       "2   1.0 -1.358354 -1.340163  1.773209  0.379780 -0.503198  1.800499  0.791461   \n",
       "3   1.0 -0.966272 -0.185226  1.792993 -0.863291 -0.010309  1.247203  0.237609   \n",
       "4   2.0 -1.158233  0.877737  1.548718  0.403034 -0.407193  0.095921  0.592941   \n",
       "\n",
       "         V8        V9  ...       V21       V22       V23       V24       V25  \\\n",
       "0  0.098698  0.363787  ... -0.018307  0.277838 -0.110474  0.066928  0.128539   \n",
       "1  0.085102 -0.255425  ... -0.225775 -0.638672  0.101288 -0.339846  0.167170   \n",
       "2  0.247676 -1.514654  ...  0.247998  0.771679  0.909412 -0.689281 -0.327642   \n",
       "3  0.377436 -1.387024  ... -0.108300  0.005274 -0.190321 -1.175575  0.647376   \n",
       "4 -0.270533  0.817739  ... -0.009431  0.798278 -0.137458  0.141267 -0.206010   \n",
       "\n",
       "        V26       V27       V28  Amount  Class  \n",
       "0 -0.189115  0.133558 -0.021053  149.62      0  \n",
       "1  0.125895 -0.008983  0.014724    2.69      0  \n",
       "2 -0.139097 -0.055353 -0.059752  378.66      0  \n",
       "3 -0.221929  0.062723  0.061458  123.50      0  \n",
       "4  0.502292  0.219422  0.215153   69.99      0  \n",
       "\n",
       "[5 rows x 31 columns]"
      ]
     },
     "execution_count": 70,
     "metadata": {},
     "output_type": "execute_result"
    }
   ],
   "source": [
    "df = pd.read_csv(\"C:\\Datasets/creditcard.csv\")\n",
    "df.head()"
   ]
  },
  {
   "cell_type": "code",
   "execution_count": 71,
   "metadata": {},
   "outputs": [
    {
     "name": "stdout",
     "output_type": "stream",
     "text": [
      "<class 'pandas.core.frame.DataFrame'>\n",
      "RangeIndex: 284807 entries, 0 to 284806\n",
      "Data columns (total 31 columns):\n",
      " #   Column  Non-Null Count   Dtype  \n",
      "---  ------  --------------   -----  \n",
      " 0   Time    284807 non-null  float64\n",
      " 1   V1      284807 non-null  float64\n",
      " 2   V2      284807 non-null  float64\n",
      " 3   V3      284807 non-null  float64\n",
      " 4   V4      284807 non-null  float64\n",
      " 5   V5      284807 non-null  float64\n",
      " 6   V6      284807 non-null  float64\n",
      " 7   V7      284807 non-null  float64\n",
      " 8   V8      284807 non-null  float64\n",
      " 9   V9      284807 non-null  float64\n",
      " 10  V10     284807 non-null  float64\n",
      " 11  V11     284807 non-null  float64\n",
      " 12  V12     284807 non-null  float64\n",
      " 13  V13     284807 non-null  float64\n",
      " 14  V14     284807 non-null  float64\n",
      " 15  V15     284807 non-null  float64\n",
      " 16  V16     284807 non-null  float64\n",
      " 17  V17     284807 non-null  float64\n",
      " 18  V18     284807 non-null  float64\n",
      " 19  V19     284807 non-null  float64\n",
      " 20  V20     284807 non-null  float64\n",
      " 21  V21     284807 non-null  float64\n",
      " 22  V22     284807 non-null  float64\n",
      " 23  V23     284807 non-null  float64\n",
      " 24  V24     284807 non-null  float64\n",
      " 25  V25     284807 non-null  float64\n",
      " 26  V26     284807 non-null  float64\n",
      " 27  V27     284807 non-null  float64\n",
      " 28  V28     284807 non-null  float64\n",
      " 29  Amount  284807 non-null  float64\n",
      " 30  Class   284807 non-null  int64  \n",
      "dtypes: float64(30), int64(1)\n",
      "memory usage: 67.4 MB\n"
     ]
    }
   ],
   "source": [
    "df.info()"
   ]
  },
  {
   "cell_type": "code",
   "execution_count": 72,
   "metadata": {},
   "outputs": [
    {
     "data": {
      "text/plain": [
       "False"
      ]
     },
     "execution_count": 72,
     "metadata": {},
     "output_type": "execute_result"
    }
   ],
   "source": [
    "df.isnull().any().any()"
   ]
  },
  {
   "cell_type": "code",
   "execution_count": 73,
   "metadata": {},
   "outputs": [
    {
     "data": {
      "text/html": [
       "<div>\n",
       "<style scoped>\n",
       "    .dataframe tbody tr th:only-of-type {\n",
       "        vertical-align: middle;\n",
       "    }\n",
       "\n",
       "    .dataframe tbody tr th {\n",
       "        vertical-align: top;\n",
       "    }\n",
       "\n",
       "    .dataframe thead th {\n",
       "        text-align: right;\n",
       "    }\n",
       "</style>\n",
       "<table border=\"1\" class=\"dataframe\">\n",
       "  <thead>\n",
       "    <tr style=\"text-align: right;\">\n",
       "      <th></th>\n",
       "      <th>Time</th>\n",
       "      <th>V1</th>\n",
       "      <th>V2</th>\n",
       "      <th>V3</th>\n",
       "      <th>V4</th>\n",
       "      <th>V5</th>\n",
       "      <th>V6</th>\n",
       "      <th>V7</th>\n",
       "      <th>V8</th>\n",
       "      <th>V9</th>\n",
       "      <th>...</th>\n",
       "      <th>V21</th>\n",
       "      <th>V22</th>\n",
       "      <th>V23</th>\n",
       "      <th>V24</th>\n",
       "      <th>V25</th>\n",
       "      <th>V26</th>\n",
       "      <th>V27</th>\n",
       "      <th>V28</th>\n",
       "      <th>Amount</th>\n",
       "      <th>Class</th>\n",
       "    </tr>\n",
       "  </thead>\n",
       "  <tbody>\n",
       "    <tr>\n",
       "      <th>66648</th>\n",
       "      <td>52153.0</td>\n",
       "      <td>1.206860</td>\n",
       "      <td>-0.207262</td>\n",
       "      <td>0.129301</td>\n",
       "      <td>0.463480</td>\n",
       "      <td>0.074433</td>\n",
       "      <td>0.867234</td>\n",
       "      <td>-0.410436</td>\n",
       "      <td>0.313616</td>\n",
       "      <td>0.573543</td>\n",
       "      <td>...</td>\n",
       "      <td>-0.112064</td>\n",
       "      <td>-0.125654</td>\n",
       "      <td>-0.191503</td>\n",
       "      <td>-1.101123</td>\n",
       "      <td>0.574488</td>\n",
       "      <td>0.497454</td>\n",
       "      <td>-0.008864</td>\n",
       "      <td>-0.013876</td>\n",
       "      <td>12.36</td>\n",
       "      <td>0</td>\n",
       "    </tr>\n",
       "    <tr>\n",
       "      <th>248597</th>\n",
       "      <td>154009.0</td>\n",
       "      <td>0.222367</td>\n",
       "      <td>0.329456</td>\n",
       "      <td>-0.625403</td>\n",
       "      <td>-2.137413</td>\n",
       "      <td>-0.283366</td>\n",
       "      <td>-0.971408</td>\n",
       "      <td>0.115952</td>\n",
       "      <td>0.328352</td>\n",
       "      <td>0.923567</td>\n",
       "      <td>...</td>\n",
       "      <td>0.165939</td>\n",
       "      <td>0.517126</td>\n",
       "      <td>0.026581</td>\n",
       "      <td>-0.315594</td>\n",
       "      <td>-0.496303</td>\n",
       "      <td>-0.283678</td>\n",
       "      <td>-0.076304</td>\n",
       "      <td>-0.085295</td>\n",
       "      <td>12.57</td>\n",
       "      <td>0</td>\n",
       "    </tr>\n",
       "    <tr>\n",
       "      <th>257401</th>\n",
       "      <td>158144.0</td>\n",
       "      <td>-2.192957</td>\n",
       "      <td>0.871155</td>\n",
       "      <td>-1.685731</td>\n",
       "      <td>0.046068</td>\n",
       "      <td>0.215581</td>\n",
       "      <td>-1.487167</td>\n",
       "      <td>0.729020</td>\n",
       "      <td>0.144945</td>\n",
       "      <td>0.353071</td>\n",
       "      <td>...</td>\n",
       "      <td>0.157549</td>\n",
       "      <td>1.077046</td>\n",
       "      <td>0.185203</td>\n",
       "      <td>-0.045718</td>\n",
       "      <td>-0.108250</td>\n",
       "      <td>-0.178968</td>\n",
       "      <td>-0.195880</td>\n",
       "      <td>0.164649</td>\n",
       "      <td>44.00</td>\n",
       "      <td>0</td>\n",
       "    </tr>\n",
       "    <tr>\n",
       "      <th>131352</th>\n",
       "      <td>79569.0</td>\n",
       "      <td>-1.618760</td>\n",
       "      <td>0.152608</td>\n",
       "      <td>-0.171854</td>\n",
       "      <td>-0.593997</td>\n",
       "      <td>-3.295499</td>\n",
       "      <td>2.162963</td>\n",
       "      <td>2.248501</td>\n",
       "      <td>0.591127</td>\n",
       "      <td>0.133473</td>\n",
       "      <td>...</td>\n",
       "      <td>-0.034073</td>\n",
       "      <td>0.029248</td>\n",
       "      <td>0.610911</td>\n",
       "      <td>-0.666803</td>\n",
       "      <td>-0.739602</td>\n",
       "      <td>0.718611</td>\n",
       "      <td>0.040293</td>\n",
       "      <td>-0.120433</td>\n",
       "      <td>684.41</td>\n",
       "      <td>0</td>\n",
       "    </tr>\n",
       "    <tr>\n",
       "      <th>179857</th>\n",
       "      <td>124267.0</td>\n",
       "      <td>2.124027</td>\n",
       "      <td>-1.148801</td>\n",
       "      <td>0.067993</td>\n",
       "      <td>-0.756321</td>\n",
       "      <td>-1.632027</td>\n",
       "      <td>-0.547061</td>\n",
       "      <td>-1.432105</td>\n",
       "      <td>0.058908</td>\n",
       "      <td>0.542735</td>\n",
       "      <td>...</td>\n",
       "      <td>0.222528</td>\n",
       "      <td>0.680920</td>\n",
       "      <td>0.294016</td>\n",
       "      <td>-0.028192</td>\n",
       "      <td>-0.496766</td>\n",
       "      <td>-0.250545</td>\n",
       "      <td>0.035763</td>\n",
       "      <td>-0.037460</td>\n",
       "      <td>9.53</td>\n",
       "      <td>0</td>\n",
       "    </tr>\n",
       "  </tbody>\n",
       "</table>\n",
       "<p>5 rows × 31 columns</p>\n",
       "</div>"
      ],
      "text/plain": [
       "            Time        V1        V2        V3        V4        V5        V6  \\\n",
       "66648    52153.0  1.206860 -0.207262  0.129301  0.463480  0.074433  0.867234   \n",
       "248597  154009.0  0.222367  0.329456 -0.625403 -2.137413 -0.283366 -0.971408   \n",
       "257401  158144.0 -2.192957  0.871155 -1.685731  0.046068  0.215581 -1.487167   \n",
       "131352   79569.0 -1.618760  0.152608 -0.171854 -0.593997 -3.295499  2.162963   \n",
       "179857  124267.0  2.124027 -1.148801  0.067993 -0.756321 -1.632027 -0.547061   \n",
       "\n",
       "              V7        V8        V9  ...       V21       V22       V23  \\\n",
       "66648  -0.410436  0.313616  0.573543  ... -0.112064 -0.125654 -0.191503   \n",
       "248597  0.115952  0.328352  0.923567  ...  0.165939  0.517126  0.026581   \n",
       "257401  0.729020  0.144945  0.353071  ...  0.157549  1.077046  0.185203   \n",
       "131352  2.248501  0.591127  0.133473  ... -0.034073  0.029248  0.610911   \n",
       "179857 -1.432105  0.058908  0.542735  ...  0.222528  0.680920  0.294016   \n",
       "\n",
       "             V24       V25       V26       V27       V28  Amount  Class  \n",
       "66648  -1.101123  0.574488  0.497454 -0.008864 -0.013876   12.36      0  \n",
       "248597 -0.315594 -0.496303 -0.283678 -0.076304 -0.085295   12.57      0  \n",
       "257401 -0.045718 -0.108250 -0.178968 -0.195880  0.164649   44.00      0  \n",
       "131352 -0.666803 -0.739602  0.718611  0.040293 -0.120433  684.41      0  \n",
       "179857 -0.028192 -0.496766 -0.250545  0.035763 -0.037460    9.53      0  \n",
       "\n",
       "[5 rows x 31 columns]"
      ]
     },
     "execution_count": 73,
     "metadata": {},
     "output_type": "execute_result"
    }
   ],
   "source": [
    "df.sample(5)"
   ]
  },
  {
   "cell_type": "code",
   "execution_count": 74,
   "metadata": {},
   "outputs": [
    {
     "data": {
      "text/plain": [
       "0    284315\n",
       "1       492\n",
       "Name: Class, dtype: int64"
      ]
     },
     "execution_count": 74,
     "metadata": {},
     "output_type": "execute_result"
    }
   ],
   "source": [
    "df['Class'].value_counts()"
   ]
  },
  {
   "cell_type": "code",
   "execution_count": 75,
   "metadata": {},
   "outputs": [
    {
     "data": {
      "text/plain": [
       "0    0.998273\n",
       "1    0.001727\n",
       "Name: Class, dtype: float64"
      ]
     },
     "execution_count": 75,
     "metadata": {},
     "output_type": "execute_result"
    }
   ],
   "source": [
    "df['Class'].value_counts(normalize=True)"
   ]
  },
  {
   "cell_type": "markdown",
   "metadata": {},
   "source": [
    "Test Train Split"
   ]
  },
  {
   "cell_type": "code",
   "execution_count": 76,
   "metadata": {},
   "outputs": [],
   "source": [
    "X = df.drop(labels='Class', axis=1) # Features\n",
    "y = df.loc[:,'Class']  #Labels"
   ]
  },
  {
   "cell_type": "code",
   "execution_count": 77,
   "metadata": {},
   "outputs": [],
   "source": [
    "X_train, X_test, y_train, y_test = train_test_split(X, y, test_size=0.2, random_state=1, stratify=y)\n"
   ]
  },
  {
   "cell_type": "code",
   "execution_count": 78,
   "metadata": {},
   "outputs": [
    {
     "data": {
      "text/plain": [
       "(56962, 30)"
      ]
     },
     "execution_count": 78,
     "metadata": {},
     "output_type": "execute_result"
    }
   ],
   "source": [
    "X_test.shape"
   ]
  },
  {
   "cell_type": "code",
   "execution_count": 79,
   "metadata": {},
   "outputs": [
    {
     "data": {
      "text/plain": [
       "(227845, 30)"
      ]
     },
     "execution_count": 79,
     "metadata": {},
     "output_type": "execute_result"
    }
   ],
   "source": [
    "X_train.shape"
   ]
  },
  {
   "cell_type": "markdown",
   "metadata": {},
   "source": [
    "Exploratory Data Analysis"
   ]
  },
  {
   "cell_type": "code",
   "execution_count": 80,
   "metadata": {},
   "outputs": [
    {
     "data": {
      "text/plain": [
       "count    227845.000000\n",
       "mean      94707.617670\n",
       "std       47523.204111\n",
       "min           0.000000\n",
       "25%       54086.000000\n",
       "50%       84609.000000\n",
       "75%      139261.000000\n",
       "max      172792.000000\n",
       "Name: Time, dtype: float64"
      ]
     },
     "execution_count": 80,
     "metadata": {},
     "output_type": "execute_result"
    }
   ],
   "source": [
    "X_train['Time'].describe()"
   ]
  },
  {
   "cell_type": "code",
   "execution_count": 81,
   "metadata": {},
   "outputs": [
    {
     "name": "stderr",
     "output_type": "stream",
     "text": [
      "C:\\Users\\Karthick\\anaconda\\lib\\site-packages\\pandas\\core\\indexing.py:1048: SettingWithCopyWarning: \n",
      "A value is trying to be set on a copy of a slice from a DataFrame.\n",
      "Try using .loc[row_indexer,col_indexer] = value instead\n",
      "\n",
      "See the caveats in the documentation: https://pandas.pydata.org/pandas-docs/stable/user_guide/indexing.html#returning-a-view-versus-a-copy\n",
      "  self.obj[item_labels[indexer[info_axis]]] = value\n"
     ]
    }
   ],
   "source": [
    "X_train.loc[:,'Time'] = X_train.Time / 3600\n",
    "X_test.loc[:,'Time'] = X_test.Time / 3600"
   ]
  },
  {
   "cell_type": "code",
   "execution_count": 82,
   "metadata": {},
   "outputs": [
    {
     "data": {
      "text/plain": [
       "1.9999074074074075"
      ]
     },
     "execution_count": 82,
     "metadata": {},
     "output_type": "execute_result"
    }
   ],
   "source": [
    "#time of the last transaction in days\n",
    "X_train['Time'].max() / 24"
   ]
  },
  {
   "cell_type": "code",
   "execution_count": 83,
   "metadata": {},
   "outputs": [
    {
     "data": {
      "text/plain": [
       "Text(0.5, 1.0, 'Transaction Times')"
      ]
     },
     "execution_count": 83,
     "metadata": {},
     "output_type": "execute_result"
    },
    {
     "data": {
      "image/png": "[encoded data removed]",
      "text/plain": [
       "<Figure size 960x320 with 1 Axes>"
      ]
     },
     "metadata": {
      "needs_background": "light"
     },
     "output_type": "display_data"
    }
   ],
   "source": [
    "plt.figure(figsize=(12,4), dpi=80)\n",
    "sns.distplot(X_train['Time'], bins=48, kde=False)\n",
    "plt.xlim([0,48])\n",
    "plt.xticks(np.arange(0,54,6))\n",
    "plt.xlabel('Time After First Transaction (hr)')\n",
    "plt.ylabel('Count')\n",
    "plt.title('Transaction Times')"
   ]
  },
  {
   "cell_type": "code",
   "execution_count": 84,
   "metadata": {},
   "outputs": [
    {
     "data": {
      "text/plain": [
       "count    227845.000000\n",
       "mean         88.709296\n",
       "std         250.026305\n",
       "min           0.000000\n",
       "25%           5.550000\n",
       "50%          22.000000\n",
       "75%          77.890000\n",
       "max       25691.160000\n",
       "Name: Amount, dtype: float64"
      ]
     },
     "execution_count": 84,
     "metadata": {},
     "output_type": "execute_result"
    }
   ],
   "source": [
    "X_train['Amount'].describe()"
   ]
  },
  {
   "cell_type": "code",
   "execution_count": 85,
   "metadata": {},
   "outputs": [
    {
     "data": {
      "text/plain": [
       "Text(0.5, 1.0, 'Transaction Amounts')"
      ]
     },
     "execution_count": 85,
     "metadata": {},
     "output_type": "execute_result"
    },
    {
     "data": {
      "image/png": "[encoded data removed]",
      "text/plain": [
       "<Figure size 960x320 with 1 Axes>"
      ]
     },
     "metadata": {
      "needs_background": "light"
     },
     "output_type": "display_data"
    }
   ],
   "source": [
    "plt.figure(figsize=(12,4), dpi=80)\n",
    "sns.distplot(X_train['Amount'], bins=300, kde=False)\n",
    "plt.ylabel('Count')\n",
    "plt.title('Transaction Amounts')"
   ]
  },
  {
   "cell_type": "code",
   "execution_count": 86,
   "metadata": {},
   "outputs": [
    {
     "data": {
      "text/plain": [
       "Text(0.5, 1.0, 'Transaction Amounts')"
      ]
     },
     "execution_count": 86,
     "metadata": {},
     "output_type": "execute_result"
    },
    {
     "data": {
      "image/png": "[encoded data removed]",
      "text/plain": [
       "<Figure size 960x320 with 1 Axes>"
      ]
     },
     "metadata": {
      "needs_background": "light"
     },
     "output_type": "display_data"
    }
   ],
   "source": [
    "plt.figure(figsize=(12,4), dpi=80)\n",
    "sns.boxplot(X_train['Amount'])\n",
    "plt.title('Transaction Amounts')"
   ]
  },
  {
   "cell_type": "code",
   "execution_count": 87,
   "metadata": {},
   "outputs": [
    {
     "data": {
      "text/plain": [
       "16.910303546516744"
      ]
     },
     "execution_count": 87,
     "metadata": {},
     "output_type": "execute_result"
    }
   ],
   "source": [
    "# Using a power transform to bring the transaction amounts closer to a normal distribution.\n",
    "\n",
    "X_train['Amount'].skew()"
   ]
  },
  {
   "cell_type": "code",
   "execution_count": 88,
   "metadata": {},
   "outputs": [
    {
     "name": "stderr",
     "output_type": "stream",
     "text": [
      "C:\\Users\\Karthick\\anaconda\\lib\\site-packages\\pandas\\core\\indexing.py:1048: SettingWithCopyWarning: \n",
      "A value is trying to be set on a copy of a slice from a DataFrame.\n",
      "Try using .loc[row_indexer,col_indexer] = value instead\n",
      "\n",
      "See the caveats in the documentation: https://pandas.pydata.org/pandas-docs/stable/user_guide/indexing.html#returning-a-view-versus-a-copy\n",
      "  self.obj[item_labels[indexer[info_axis]]] = value\n"
     ]
    }
   ],
   "source": [
    "X_train.loc[:,'Amount'] = X_train['Amount'] + 1e-9 # Shift all amounts by 1e-9"
   ]
  },
  {
   "cell_type": "code",
   "execution_count": 89,
   "metadata": {},
   "outputs": [],
   "source": [
    "#Perform Box-Cox Transform\n",
    "X_train.loc[:,'Amount'], maxlog, (min_ci, max_ci) = sp.stats.boxcox(X_train['Amount'], alpha=0.01)"
   ]
  },
  {
   "cell_type": "code",
   "execution_count": 90,
   "metadata": {},
   "outputs": [
    {
     "data": {
      "text/plain": [
       "0.1343656979074871"
      ]
     },
     "execution_count": 90,
     "metadata": {},
     "output_type": "execute_result"
    }
   ],
   "source": [
    "maxlog"
   ]
  },
  {
   "cell_type": "code",
   "execution_count": 91,
   "metadata": {},
   "outputs": [
    {
     "data": {
      "text/plain": [
       "(0.13291390124731134, 0.1358266545085327)"
      ]
     },
     "execution_count": 91,
     "metadata": {},
     "output_type": "execute_result"
    }
   ],
   "source": [
    "(min_ci, max_ci)"
   ]
  },
  {
   "cell_type": "code",
   "execution_count": 92,
   "metadata": {},
   "outputs": [
    {
     "data": {
      "text/plain": [
       "Text(0.5, 1.0, 'Transaction Amounts (Box-Cox Transformed)')"
      ]
     },
     "execution_count": 92,
     "metadata": {},
     "output_type": "execute_result"
    },
    {
     "data": {
      "image/png": "[encoded data removed]",
      "text/plain": [
       "<Figure size 960x320 with 1 Axes>"
      ]
     },
     "metadata": {
      "needs_background": "light"
     },
     "output_type": "display_data"
    }
   ],
   "source": [
    "plt.figure(figsize=(12,4), dpi=80)\n",
    "sns.distplot(X_train['Amount'], kde=False)\n",
    "plt.xlabel('Transformed Amount')\n",
    "plt.ylabel('Count')\n",
    "plt.title('Transaction Amounts (Box-Cox Transformed)')"
   ]
  },
  {
   "cell_type": "code",
   "execution_count": 93,
   "metadata": {},
   "outputs": [
    {
     "data": {
      "text/plain": [
       "count    227845.000000\n",
       "mean          3.985515\n",
       "std           2.972505\n",
       "min          -6.982733\n",
       "25%           1.927181\n",
       "50%           3.831861\n",
       "75%           5.919328\n",
       "max          21.680567\n",
       "Name: Amount, dtype: float64"
      ]
     },
     "execution_count": 93,
     "metadata": {},
     "output_type": "execute_result"
    }
   ],
   "source": [
    "X_train['Amount'].describe()"
   ]
  },
  {
   "cell_type": "code",
   "execution_count": 94,
   "metadata": {},
   "outputs": [],
   "source": [
    "X_test.loc[:,'Amount'] = X_test['Amount'] + 1e-9 # Shift all amounts by 1e-9"
   ]
  },
  {
   "cell_type": "code",
   "execution_count": 95,
   "metadata": {},
   "outputs": [],
   "source": [
    "X_test.loc[:,'Amount'] = sp.stats.boxcox(X_test['Amount'], lmbda=maxlog)"
   ]
  },
  {
   "cell_type": "code",
   "execution_count": 96,
   "metadata": {},
   "outputs": [
    {
     "name": "stderr",
     "output_type": "stream",
     "text": [
      "C:\\Users\\Karthick\\anaconda\\lib\\site-packages\\seaborn\\axisgrid.py:2264: UserWarning: The `size` parameter has been renamed to `height`; please update your code.\n",
      "  warnings.warn(msg, UserWarning)\n"
     ]
    },
    {
     "data": {
      "text/plain": [
       "<seaborn.axisgrid.JointGrid at 0x1ab840a9c40>"
      ]
     },
     "execution_count": 96,
     "metadata": {},
     "output_type": "execute_result"
    },
    {
     "data": {
      "image/png": "[encoded data removed]",
      "text/plain": [
       "<Figure size 864x864 with 3 Axes>"
      ]
     },
     "metadata": {
      "needs_background": "light"
     },
     "output_type": "display_data"
    }
   ],
   "source": [
    "sns.jointplot(X_train['Time'].apply(lambda x: x % 24), X_train['Amount'], kind='hex', stat_func=None, size=12, xlim=(0,24), ylim=(-7.5,14)).set_axis_labels('Time of Day (hr)','Transformed Amount')"
   ]
  },
  {
   "cell_type": "code",
   "execution_count": 97,
   "metadata": {},
   "outputs": [],
   "source": [
    "pca_vars = ['V%i' % k for k in range(1,29)]"
   ]
  },
  {
   "cell_type": "code",
   "execution_count": 98,
   "metadata": {},
   "outputs": [
    {
     "data": {
      "text/html": [
       "<div>\n",
       "<style scoped>\n",
       "    .dataframe tbody tr th:only-of-type {\n",
       "        vertical-align: middle;\n",
       "    }\n",
       "\n",
       "    .dataframe tbody tr th {\n",
       "        vertical-align: top;\n",
       "    }\n",
       "\n",
       "    .dataframe thead th {\n",
       "        text-align: right;\n",
       "    }\n",
       "</style>\n",
       "<table border=\"1\" class=\"dataframe\">\n",
       "  <thead>\n",
       "    <tr style=\"text-align: right;\">\n",
       "      <th></th>\n",
       "      <th>V1</th>\n",
       "      <th>V2</th>\n",
       "      <th>V3</th>\n",
       "      <th>V4</th>\n",
       "      <th>V5</th>\n",
       "      <th>V6</th>\n",
       "      <th>V7</th>\n",
       "      <th>V8</th>\n",
       "      <th>V9</th>\n",
       "      <th>V10</th>\n",
       "      <th>...</th>\n",
       "      <th>V19</th>\n",
       "      <th>V20</th>\n",
       "      <th>V21</th>\n",
       "      <th>V22</th>\n",
       "      <th>V23</th>\n",
       "      <th>V24</th>\n",
       "      <th>V25</th>\n",
       "      <th>V26</th>\n",
       "      <th>V27</th>\n",
       "      <th>V28</th>\n",
       "    </tr>\n",
       "  </thead>\n",
       "  <tbody>\n",
       "    <tr>\n",
       "      <th>count</th>\n",
       "      <td>227845.000000</td>\n",
       "      <td>227845.000000</td>\n",
       "      <td>227845.000000</td>\n",
       "      <td>227845.000000</td>\n",
       "      <td>227845.000000</td>\n",
       "      <td>227845.000000</td>\n",
       "      <td>227845.000000</td>\n",
       "      <td>227845.000000</td>\n",
       "      <td>227845.000000</td>\n",
       "      <td>227845.000000</td>\n",
       "      <td>...</td>\n",
       "      <td>227845.000000</td>\n",
       "      <td>227845.000000</td>\n",
       "      <td>227845.000000</td>\n",
       "      <td>227845.000000</td>\n",
       "      <td>227845.000000</td>\n",
       "      <td>227845.000000</td>\n",
       "      <td>227845.000000</td>\n",
       "      <td>227845.000000</td>\n",
       "      <td>227845.000000</td>\n",
       "      <td>227845.000000</td>\n",
       "    </tr>\n",
       "    <tr>\n",
       "      <th>mean</th>\n",
       "      <td>-0.000713</td>\n",
       "      <td>-0.001034</td>\n",
       "      <td>0.002557</td>\n",
       "      <td>0.003839</td>\n",
       "      <td>-0.002857</td>\n",
       "      <td>0.002085</td>\n",
       "      <td>0.000022</td>\n",
       "      <td>0.000093</td>\n",
       "      <td>0.000243</td>\n",
       "      <td>-0.000363</td>\n",
       "      <td>...</td>\n",
       "      <td>-0.000146</td>\n",
       "      <td>-0.000796</td>\n",
       "      <td>0.000023</td>\n",
       "      <td>0.000897</td>\n",
       "      <td>0.000765</td>\n",
       "      <td>-0.000380</td>\n",
       "      <td>0.000136</td>\n",
       "      <td>-0.000301</td>\n",
       "      <td>-0.000046</td>\n",
       "      <td>-0.000027</td>\n",
       "    </tr>\n",
       "    <tr>\n",
       "      <th>std</th>\n",
       "      <td>1.952399</td>\n",
       "      <td>1.636689</td>\n",
       "      <td>1.514288</td>\n",
       "      <td>1.417086</td>\n",
       "      <td>1.383532</td>\n",
       "      <td>1.333769</td>\n",
       "      <td>1.240239</td>\n",
       "      <td>1.200348</td>\n",
       "      <td>1.096453</td>\n",
       "      <td>1.082580</td>\n",
       "      <td>...</td>\n",
       "      <td>0.815140</td>\n",
       "      <td>0.767956</td>\n",
       "      <td>0.733325</td>\n",
       "      <td>0.725353</td>\n",
       "      <td>0.616772</td>\n",
       "      <td>0.605741</td>\n",
       "      <td>0.522184</td>\n",
       "      <td>0.482187</td>\n",
       "      <td>0.405182</td>\n",
       "      <td>0.331048</td>\n",
       "    </tr>\n",
       "    <tr>\n",
       "      <th>min</th>\n",
       "      <td>-56.407510</td>\n",
       "      <td>-72.715728</td>\n",
       "      <td>-48.325589</td>\n",
       "      <td>-5.683171</td>\n",
       "      <td>-113.743307</td>\n",
       "      <td>-26.160506</td>\n",
       "      <td>-43.557242</td>\n",
       "      <td>-73.216718</td>\n",
       "      <td>-13.434066</td>\n",
       "      <td>-24.588262</td>\n",
       "      <td>...</td>\n",
       "      <td>-7.213527</td>\n",
       "      <td>-54.497720</td>\n",
       "      <td>-34.830382</td>\n",
       "      <td>-10.933144</td>\n",
       "      <td>-36.666000</td>\n",
       "      <td>-2.836627</td>\n",
       "      <td>-8.696627</td>\n",
       "      <td>-2.534330</td>\n",
       "      <td>-22.565679</td>\n",
       "      <td>-15.430084</td>\n",
       "    </tr>\n",
       "    <tr>\n",
       "      <th>25%</th>\n",
       "      <td>-0.922830</td>\n",
       "      <td>-0.599928</td>\n",
       "      <td>-0.887861</td>\n",
       "      <td>-0.844052</td>\n",
       "      <td>-0.693702</td>\n",
       "      <td>-0.766195</td>\n",
       "      <td>-0.555377</td>\n",
       "      <td>-0.208302</td>\n",
       "      <td>-0.642006</td>\n",
       "      <td>-0.535079</td>\n",
       "      <td>...</td>\n",
       "      <td>-0.456946</td>\n",
       "      <td>-0.212129</td>\n",
       "      <td>-0.227952</td>\n",
       "      <td>-0.541079</td>\n",
       "      <td>-0.162242</td>\n",
       "      <td>-0.354208</td>\n",
       "      <td>-0.317488</td>\n",
       "      <td>-0.327576</td>\n",
       "      <td>-0.070767</td>\n",
       "      <td>-0.053013</td>\n",
       "    </tr>\n",
       "    <tr>\n",
       "      <th>50%</th>\n",
       "      <td>0.016743</td>\n",
       "      <td>0.064370</td>\n",
       "      <td>0.180865</td>\n",
       "      <td>-0.016750</td>\n",
       "      <td>-0.055388</td>\n",
       "      <td>-0.271706</td>\n",
       "      <td>0.039185</td>\n",
       "      <td>0.022594</td>\n",
       "      <td>-0.051224</td>\n",
       "      <td>-0.091877</td>\n",
       "      <td>...</td>\n",
       "      <td>0.004371</td>\n",
       "      <td>-0.062809</td>\n",
       "      <td>-0.029095</td>\n",
       "      <td>0.007661</td>\n",
       "      <td>-0.011184</td>\n",
       "      <td>0.040977</td>\n",
       "      <td>0.017081</td>\n",
       "      <td>-0.052599</td>\n",
       "      <td>0.001373</td>\n",
       "      <td>0.011255</td>\n",
       "    </tr>\n",
       "    <tr>\n",
       "      <th>75%</th>\n",
       "      <td>1.315147</td>\n",
       "      <td>0.801738</td>\n",
       "      <td>1.027592</td>\n",
       "      <td>0.746907</td>\n",
       "      <td>0.611056</td>\n",
       "      <td>0.401204</td>\n",
       "      <td>0.569307</td>\n",
       "      <td>0.328079</td>\n",
       "      <td>0.596563</td>\n",
       "      <td>0.455577</td>\n",
       "      <td>...</td>\n",
       "      <td>0.459695</td>\n",
       "      <td>0.132873</td>\n",
       "      <td>0.186678</td>\n",
       "      <td>0.529342</td>\n",
       "      <td>0.147825</td>\n",
       "      <td>0.438432</td>\n",
       "      <td>0.351400</td>\n",
       "      <td>0.240554</td>\n",
       "      <td>0.091028</td>\n",
       "      <td>0.078341</td>\n",
       "    </tr>\n",
       "    <tr>\n",
       "      <th>max</th>\n",
       "      <td>2.451888</td>\n",
       "      <td>22.057729</td>\n",
       "      <td>9.382558</td>\n",
       "      <td>16.715537</td>\n",
       "      <td>34.801666</td>\n",
       "      <td>73.301626</td>\n",
       "      <td>120.589494</td>\n",
       "      <td>20.007208</td>\n",
       "      <td>15.594995</td>\n",
       "      <td>23.745136</td>\n",
       "      <td>...</td>\n",
       "      <td>5.591971</td>\n",
       "      <td>39.420904</td>\n",
       "      <td>27.202839</td>\n",
       "      <td>10.503090</td>\n",
       "      <td>22.083545</td>\n",
       "      <td>4.584549</td>\n",
       "      <td>7.519589</td>\n",
       "      <td>3.517346</td>\n",
       "      <td>31.612198</td>\n",
       "      <td>33.847808</td>\n",
       "    </tr>\n",
       "  </tbody>\n",
       "</table>\n",
       "<p>8 rows × 28 columns</p>\n",
       "</div>"
      ],
      "text/plain": [
       "                  V1             V2             V3             V4  \\\n",
       "count  227845.000000  227845.000000  227845.000000  227845.000000   \n",
       "mean       -0.000713      -0.001034       0.002557       0.003839   \n",
       "std         1.952399       1.636689       1.514288       1.417086   \n",
       "min       -56.407510     -72.715728     -48.325589      -5.683171   \n",
       "25%        -0.922830      -0.599928      -0.887861      -0.844052   \n",
       "50%         0.016743       0.064370       0.180865      -0.016750   \n",
       "75%         1.315147       0.801738       1.027592       0.746907   \n",
       "max         2.451888      22.057729       9.382558      16.715537   \n",
       "\n",
       "                  V5             V6             V7             V8  \\\n",
       "count  227845.000000  227845.000000  227845.000000  227845.000000   \n",
       "mean       -0.002857       0.002085       0.000022       0.000093   \n",
       "std         1.383532       1.333769       1.240239       1.200348   \n",
       "min      -113.743307     -26.160506     -43.557242     -73.216718   \n",
       "25%        -0.693702      -0.766195      -0.555377      -0.208302   \n",
       "50%        -0.055388      -0.271706       0.039185       0.022594   \n",
       "75%         0.611056       0.401204       0.569307       0.328079   \n",
       "max        34.801666      73.301626     120.589494      20.007208   \n",
       "\n",
       "                  V9            V10  ...            V19            V20  \\\n",
       "count  227845.000000  227845.000000  ...  227845.000000  227845.000000   \n",
       "mean        0.000243      -0.000363  ...      -0.000146      -0.000796   \n",
       "std         1.096453       1.082580  ...       0.815140       0.767956   \n",
       "min       -13.434066     -24.588262  ...      -7.213527     -54.497720   \n",
       "25%        -0.642006      -0.535079  ...      -0.456946      -0.212129   \n",
       "50%        -0.051224      -0.091877  ...       0.004371      -0.062809   \n",
       "75%         0.596563       0.455577  ...       0.459695       0.132873   \n",
       "max        15.594995      23.745136  ...       5.591971      39.420904   \n",
       "\n",
       "                 V21            V22            V23            V24  \\\n",
       "count  227845.000000  227845.000000  227845.000000  227845.000000   \n",
       "mean        0.000023       0.000897       0.000765      -0.000380   \n",
       "std         0.733325       0.725353       0.616772       0.605741   \n",
       "min       -34.830382     -10.933144     -36.666000      -2.836627   \n",
       "25%        -0.227952      -0.541079      -0.162242      -0.354208   \n",
       "50%        -0.029095       0.007661      -0.011184       0.040977   \n",
       "75%         0.186678       0.529342       0.147825       0.438432   \n",
       "max        27.202839      10.503090      22.083545       4.584549   \n",
       "\n",
       "                 V25            V26            V27            V28  \n",
       "count  227845.000000  227845.000000  227845.000000  227845.000000  \n",
       "mean        0.000136      -0.000301      -0.000046      -0.000027  \n",
       "std         0.522184       0.482187       0.405182       0.331048  \n",
       "min        -8.696627      -2.534330     -22.565679     -15.430084  \n",
       "25%        -0.317488      -0.327576      -0.070767      -0.053013  \n",
       "50%         0.017081      -0.052599       0.001373       0.011255  \n",
       "75%         0.351400       0.240554       0.091028       0.078341  \n",
       "max         7.519589       3.517346      31.612198      33.847808  \n",
       "\n",
       "[8 rows x 28 columns]"
      ]
     },
     "execution_count": 98,
     "metadata": {},
     "output_type": "execute_result"
    }
   ],
   "source": [
    "X_train[pca_vars].describe()"
   ]
  },
  {
   "cell_type": "code",
   "execution_count": 99,
   "metadata": {},
   "outputs": [
    {
     "data": {
      "text/plain": [
       "Text(0.5, 1.0, 'V1-V28 Means')"
      ]
     },
     "execution_count": 99,
     "metadata": {},
     "output_type": "execute_result"
    },
    {
     "data": {
      "image/png": "[encoded data removed]",
      "text/plain": [
       "<Figure size 960x320 with 1 Axes>"
      ]
     },
     "metadata": {
      "needs_background": "light"
     },
     "output_type": "display_data"
    }
   ],
   "source": [
    "plt.figure(figsize=(12,4), dpi=80)\n",
    "sns.barplot(x=pca_vars, y=X_train[pca_vars].mean(), color='darkblue')\n",
    "plt.xlabel('Column')\n",
    "plt.ylabel('Mean')\n",
    "plt.title('V1-V28 Means')"
   ]
  },
  {
   "cell_type": "code",
   "execution_count": 100,
   "metadata": {},
   "outputs": [],
   "source": [
    "#All of V1-V28 have approximately zero mean. Now plot the standard deviations:"
   ]
  },
  {
   "cell_type": "code",
   "execution_count": 101,
   "metadata": {},
   "outputs": [
    {
     "data": {
      "text/plain": [
       "Text(0.5, 1.0, 'V1-V28 Standard Deviations')"
      ]
     },
     "execution_count": 101,
     "metadata": {},
     "output_type": "execute_result"
    },
    {
     "data": {
      "image/png": "[encoded data removed]",
      "text/plain": [
       "<Figure size 960x320 with 1 Axes>"
      ]
     },
     "metadata": {
      "needs_background": "light"
     },
     "output_type": "display_data"
    }
   ],
   "source": [
    "plt.figure(figsize=(12,4), dpi=80)\n",
    "sns.barplot(x=pca_vars, y=X_train[pca_vars].std(), color='darkred')\n",
    "plt.xlabel('Column')\n",
    "plt.ylabel('Standard Deviation')\n",
    "plt.title('V1-V28 Standard Deviations')"
   ]
  },
  {
   "cell_type": "code",
   "execution_count": 102,
   "metadata": {},
   "outputs": [],
   "source": [
    "#The PCA variables have roughly unit variance, but as low as ~0.3 and as high as ~1.9\n",
    "#Plotting skewness"
   ]
  },
  {
   "cell_type": "code",
   "execution_count": 103,
   "metadata": {},
   "outputs": [
    {
     "data": {
      "text/plain": [
       "Text(0.5, 1.0, 'V1-V28 Skewnesses')"
      ]
     },
     "execution_count": 103,
     "metadata": {},
     "output_type": "execute_result"
    },
    {
     "data": {
      "image/png": "[encoded data removed]",
      "text/plain": [
       "<Figure size 960x320 with 1 Axes>"
      ]
     },
     "metadata": {
      "needs_background": "light"
     },
     "output_type": "display_data"
    }
   ],
   "source": [
    "plt.figure(figsize=(12,4), dpi=80)\n",
    "sns.barplot(x=pca_vars, y=X_train[pca_vars].skew(), color='darkgreen')\n",
    "plt.xlabel('Column')\n",
    "plt.ylabel('Skewness')\n",
    "plt.title('V1-V28 Skewnesses')"
   ]
  },
  {
   "cell_type": "code",
   "execution_count": 104,
   "metadata": {},
   "outputs": [
    {
     "data": {
      "text/plain": [
       "Text(0.5, 1.0, 'V8')"
      ]
     },
     "execution_count": 104,
     "metadata": {},
     "output_type": "execute_result"
    },
    {
     "data": {
      "image/png": "[encoded data removed]",
      "text/plain": [
       "<Figure size 960x320 with 1 Axes>"
      ]
     },
     "metadata": {
      "needs_background": "light"
     },
     "output_type": "display_data"
    }
   ],
   "source": [
    "plt.figure(figsize=(12,4), dpi=80)\n",
    "sns.distplot(X_train['V8'], bins=300, kde=False)\n",
    "plt.ylabel('Count')\n",
    "plt.title('V8')"
   ]
  },
  {
   "cell_type": "code",
   "execution_count": 105,
   "metadata": {},
   "outputs": [
    {
     "data": {
      "text/plain": [
       "Text(0.5, 1.0, 'V8')"
      ]
     },
     "execution_count": 105,
     "metadata": {},
     "output_type": "execute_result"
    },
    {
     "data": {
      "image/png": "[encoded data removed]",
      "text/plain": [
       "<Figure size 960x320 with 1 Axes>"
      ]
     },
     "metadata": {
      "needs_background": "light"
     },
     "output_type": "display_data"
    }
   ],
   "source": [
    "plt.figure(figsize=(12,4), dpi=80)\n",
    "sns.boxplot(X_train['V8'])\n",
    "plt.title('V8')"
   ]
  },
  {
   "cell_type": "code",
   "execution_count": 106,
   "metadata": {},
   "outputs": [],
   "source": [
    "#he boxplot is also hard to read due to the large number of outliers, which indicates high kurtosis in V8"
   ]
  },
  {
   "cell_type": "code",
   "execution_count": 107,
   "metadata": {},
   "outputs": [
    {
     "data": {
      "text/plain": [
       "Text(0.5, 1.0, 'V1-V28 Kurtoses')"
      ]
     },
     "execution_count": 107,
     "metadata": {},
     "output_type": "execute_result"
    },
    {
     "data": {
      "image/png": "[encoded data removed]",
      "text/plain": [
       "<Figure size 960x320 with 1 Axes>"
      ]
     },
     "metadata": {
      "needs_background": "light"
     },
     "output_type": "display_data"
    }
   ],
   "source": [
    "plt.figure(figsize=(12,4), dpi=80)\n",
    "plt.yscale('log')\n",
    "sns.barplot(x=pca_vars, y=X_train[pca_vars].kurtosis(), color='darkorange')\n",
    "plt.xlabel('Column')\n",
    "plt.ylabel('Kurtosis')\n",
    "plt.title('V1-V28 Kurtoses')"
   ]
  },
  {
   "cell_type": "code",
   "execution_count": 108,
   "metadata": {},
   "outputs": [
    {
     "data": {
      "text/plain": [
       "Text(0.5, 1.0, 'V1-V28 Medians')"
      ]
     },
     "execution_count": 108,
     "metadata": {},
     "output_type": "execute_result"
    },
    {
     "data": {
      "image/png": "[encoded data removed]",
      "text/plain": [
       "<Figure size 960x320 with 1 Axes>"
      ]
     },
     "metadata": {
      "needs_background": "light"
     },
     "output_type": "display_data"
    }
   ],
   "source": [
    "plt.figure(figsize=(12,4), dpi=80)\n",
    "sns.barplot(x=pca_vars, y=X_train[pca_vars].median(), color='darkblue')\n",
    "plt.xlabel('Column')\n",
    "plt.ylabel('Median')\n",
    "plt.title('V1-V28 Medians')"
   ]
  },
  {
   "cell_type": "code",
   "execution_count": 109,
   "metadata": {},
   "outputs": [
    {
     "data": {
      "text/plain": [
       "Text(0.5, 1.0, 'V1-V28 IQRs')"
      ]
     },
     "execution_count": 109,
     "metadata": {},
     "output_type": "execute_result"
    },
    {
     "data": {
      "image/png": "[encoded data removed]",
      "text/plain": [
       "<Figure size 960x320 with 1 Axes>"
      ]
     },
     "metadata": {
      "needs_background": "light"
     },
     "output_type": "display_data"
    }
   ],
   "source": [
    "#The medians are also roughly zero. Next let's look at the interquartile ranges \n",
    "\n",
    "plt.figure(figsize=(12,4), dpi=80)\n",
    "sns.barplot(x=pca_vars, y=X_train[pca_vars].quantile(0.75) - X_train[pca_vars].quantile(0.25), color='darkred')\n",
    "plt.xlabel('Column')\n",
    "plt.ylabel('IQR')\n",
    "plt.title('V1-V28 IQRs')"
   ]
  },
  {
   "cell_type": "markdown",
   "metadata": {},
   "source": [
    "Mutual information is a non-parametric method to estimate the mutual dependence between two variables. Mutual information of 0 indicates no dependence, and higher values indicate higher dependence"
   ]
  },
  {
   "cell_type": "code",
   "execution_count": 110,
   "metadata": {},
   "outputs": [],
   "source": [
    "from sklearn.feature_selection import mutual_info_classif\n",
    "mutual_infos = pd.Series(data=mutual_info_classif(X_train, y_train, discrete_features=False, random_state=1), index=X_train.columns)"
   ]
  },
  {
   "cell_type": "code",
   "execution_count": 111,
   "metadata": {},
   "outputs": [
    {
     "data": {
      "text/plain": [
       "V17       0.008037\n",
       "V14       0.007977\n",
       "V10       0.007354\n",
       "V12       0.007354\n",
       "V11       0.006607\n",
       "V16       0.005793\n",
       "V4        0.004843\n",
       "V3        0.004755\n",
       "V18       0.004025\n",
       "V9        0.003996\n",
       "V7        0.003941\n",
       "V2        0.003085\n",
       "V21       0.002304\n",
       "V27       0.002271\n",
       "V6        0.002265\n",
       "V5        0.002254\n",
       "V1        0.001990\n",
       "V8        0.001843\n",
       "V28       0.001757\n",
       "Time      0.001722\n",
       "Amount    0.001422\n",
       "V19       0.001322\n",
       "V20       0.001136\n",
       "V23       0.000827\n",
       "V24       0.000593\n",
       "V26       0.000459\n",
       "V22       0.000388\n",
       "V25       0.000376\n",
       "V15       0.000230\n",
       "V13       0.000205\n",
       "dtype: float64"
      ]
     },
     "execution_count": 111,
     "metadata": {},
     "output_type": "execute_result"
    }
   ],
   "source": [
    "mutual_infos.sort_values(ascending=False)"
   ]
  },
  {
   "cell_type": "markdown",
   "metadata": {},
   "source": [
    "DATA MODELLING"
   ]
  },
  {
   "cell_type": "markdown",
   "metadata": {},
   "source": [
    "Logistic regression\n",
    "Support vector classifier\n",
    "Random forest"
   ]
  },
  {
   "cell_type": "markdown",
   "metadata": {},
   "source": [
    "This estimator implements regularized linear models with stochastic gradient descent (SGD) learning: the gradient of the loss is estimated each sample at a time and the model is updated along the way with a decreasing strength schedule (aka learning rate). SGD allows minibatch (online/out-of-core) learning via the partial_fit method. For best results using the default learning rate schedule, the data should have zero mean and unit variance."
   ]
  },
  {
   "cell_type": "code",
   "execution_count": 112,
   "metadata": {},
   "outputs": [],
   "source": [
    "pipeline_sgd = Pipeline([\n",
    "    ('scaler', StandardScaler(copy=False)),\n",
    "    ('model', SGDClassifier(max_iter=1000, tol=1e-3, random_state=1, warm_start=True))\n",
    "])"
   ]
  },
  {
   "cell_type": "code",
   "execution_count": 113,
   "metadata": {},
   "outputs": [],
   "source": [
    "param_grid_sgd = [{\n",
    "    'model__loss': ['log'],\n",
    "    'model__penalty': ['l1', 'l2'],\n",
    "    'model__alpha': np.logspace(start=-3, stop=3, num=20)\n",
    "}, {\n",
    "    'model__loss': ['hinge'],\n",
    "    'model__alpha': np.logspace(start=-3, stop=3, num=20),\n",
    "    'model__class_weight': [None, 'balanced']\n",
    "}]"
   ]
  },
  {
   "cell_type": "code",
   "execution_count": 114,
   "metadata": {},
   "outputs": [],
   "source": [
    "# The type of linear classifier is chosen with the loss hyperparameter. For a linear SVC we set loss = 'hinge', and for logistic regression we set loss = 'log'"
   ]
  },
  {
   "cell_type": "code",
   "execution_count": 115,
   "metadata": {},
   "outputs": [],
   "source": [
    "MCC_scorer = make_scorer(matthews_corrcoef)\n",
    "grid_sgd = GridSearchCV(estimator=pipeline_sgd, param_grid=param_grid_sgd, scoring=MCC_scorer, n_jobs=-1, pre_dispatch='2*n_jobs',\n",
    "                        cv=5, verbose=1, return_train_score=False)"
   ]
  },
  {
   "cell_type": "code",
   "execution_count": 116,
   "metadata": {},
   "outputs": [
    {
     "name": "stdout",
     "output_type": "stream",
     "text": [
      "Fitting 5 folds for each of 80 candidates, totalling 400 fits\n"
     ]
    },
    {
     "name": "stderr",
     "output_type": "stream",
     "text": [
      "[Parallel(n_jobs=-1)]: Using backend LokyBackend with 8 concurrent workers.\n",
      "[Parallel(n_jobs=-1)]: Done  34 tasks      | elapsed:   30.0s\n",
      "[Parallel(n_jobs=-1)]: Done 184 tasks      | elapsed:  1.2min\n",
      "[Parallel(n_jobs=-1)]: Done 400 out of 400 | elapsed:  2.2min finished\n"
     ]
    }
   ],
   "source": [
    "import warnings\n",
    "with warnings.catch_warnings(): # Suppress warnings from the matthews_corrcoef function\n",
    "    warnings.simplefilter(\"ignore\")\n",
    "    grid_sgd.fit(X_train, y_train)"
   ]
  },
  {
   "cell_type": "code",
   "execution_count": 117,
   "metadata": {},
   "outputs": [
    {
     "data": {
      "text/plain": [
       "0.8054381462050987"
      ]
     },
     "execution_count": 117,
     "metadata": {},
     "output_type": "execute_result"
    }
   ],
   "source": [
    "grid_sgd.best_score_"
   ]
  },
  {
   "cell_type": "code",
   "execution_count": 118,
   "metadata": {},
   "outputs": [
    {
     "data": {
      "text/plain": [
       "{'model__alpha': 233.57214690901213,\n",
       " 'model__class_weight': 'balanced',\n",
       " 'model__loss': 'hinge'}"
      ]
     },
     "execution_count": 118,
     "metadata": {},
     "output_type": "execute_result"
    }
   ],
   "source": [
    " grid_sgd.best_params_   "
   ]
  },
  {
   "cell_type": "code",
   "execution_count": 119,
   "metadata": {},
   "outputs": [],
   "source": [
    "# linear SVC performed better than logistic regression, and with a high level of regularization "
   ]
  },
  {
   "cell_type": "markdown",
   "metadata": {},
   "source": [
    "Random Forest"
   ]
  },
  {
   "cell_type": "code",
   "execution_count": 120,
   "metadata": {},
   "outputs": [],
   "source": [
    "pipeline_rf = Pipeline([\n",
    "    ('model', RandomForestClassifier(n_jobs=-1, random_state=1))\n",
    "])\n",
    "param_grid_rf = {'model__n_estimators': [75]}"
   ]
  },
  {
   "cell_type": "code",
   "execution_count": 121,
   "metadata": {},
   "outputs": [],
   "source": [
    "grid_rf = GridSearchCV(estimator=pipeline_rf, param_grid=param_grid_rf, scoring=MCC_scorer, n_jobs=-1, \n",
    "                       pre_dispatch='2*n_jobs', cv=5, verbose=1, return_train_score=False)"
   ]
  },
  {
   "cell_type": "code",
   "execution_count": 122,
   "metadata": {},
   "outputs": [
    {
     "name": "stdout",
     "output_type": "stream",
     "text": [
      "Fitting 5 folds for each of 1 candidates, totalling 5 fits\n"
     ]
    },
    {
     "name": "stderr",
     "output_type": "stream",
     "text": [
      "[Parallel(n_jobs=-1)]: Using backend LokyBackend with 8 concurrent workers.\n",
      "[Parallel(n_jobs=-1)]: Done   2 out of   5 | elapsed:  2.1min remaining:  3.1min\n",
      "[Parallel(n_jobs=-1)]: Done   5 out of   5 | elapsed:  2.1min finished\n"
     ]
    },
    {
     "data": {
      "text/plain": [
       "GridSearchCV(cv=5,\n",
       "             estimator=Pipeline(steps=[('model',\n",
       "                                        RandomForestClassifier(n_jobs=-1,\n",
       "                                                               random_state=1))]),\n",
       "             n_jobs=-1, param_grid={'model__n_estimators': [75]},\n",
       "             scoring=make_scorer(matthews_corrcoef), verbose=1)"
      ]
     },
     "execution_count": 122,
     "metadata": {},
     "output_type": "execute_result"
    }
   ],
   "source": [
    "grid_rf.fit(X_train, y_train)"
   ]
  },
  {
   "cell_type": "code",
   "execution_count": 123,
   "metadata": {},
   "outputs": [
    {
     "data": {
      "text/plain": [
       "0.8596447282953857"
      ]
     },
     "execution_count": 123,
     "metadata": {},
     "output_type": "execute_result"
    }
   ],
   "source": [
    "grid_rf.best_score_"
   ]
  },
  {
   "cell_type": "code",
   "execution_count": 124,
   "metadata": {},
   "outputs": [
    {
     "data": {
      "text/plain": [
       "{'model__n_estimators': 75}"
      ]
     },
     "execution_count": 124,
     "metadata": {},
     "output_type": "execute_result"
    }
   ],
   "source": [
    "grid_rf.best_params_"
   ]
  },
  {
   "cell_type": "markdown",
   "metadata": {},
   "source": [
    "Evaluation of the Best Model"
   ]
  },
  {
   "cell_type": "code",
   "execution_count": 125,
   "metadata": {},
   "outputs": [],
   "source": [
    "def classification_eval(estimator, X_test, y_test):\n",
    "    \"\"\"\n",
    "    Print several metrics of classification performance of an estimator, given features X_test and true labels y_test.\n",
    "    \n",
    "    \"\"\"\n",
    "    y_pred = estimator.predict(X_test)\n",
    "    \n",
    "    # Number of decimal places based on number of samples\n",
    "    dec = np.int64(np.ceil(np.log10(len(y_test))))\n",
    "    \n",
    "    print('CONFUSION MATRIX')\n",
    "    print(confusion_matrix(y_test, y_pred), '\\n')\n",
    "    \n",
    "    print('CLASSIFICATION REPORT')\n",
    "    print(classification_report(y_test, y_pred, digits=dec))\n",
    "        \n",
    "    print('SCALAR METRICS')\n",
    "    format_str = '%%13s = %%.%if' % dec\n",
    "    print(format_str % ('MCC', matthews_corrcoef(y_test, y_pred)))\n",
    "    if y_test.nunique() <= 2: # Additional metrics for binary classification\n",
    "        try:\n",
    "            y_score = estimator.predict_proba(X_test)[:,1]\n",
    "        except:\n",
    "            y_score = estimator.decision_function(X_test)\n",
    "        print(format_str % ('AUPRC', average_precision_score(y_test, y_score)))\n",
    "        print(format_str % ('AUROC', roc_auc_score(y_test, y_score)))\n",
    "    print(format_str % (\"Cohen's kappa\", cohen_kappa_score(y_test, y_pred)))\n",
    "    print(format_str % ('Accuracy', accuracy_score(y_test, y_pred)))\n"
   ]
  },
  {
   "cell_type": "code",
   "execution_count": 126,
   "metadata": {},
   "outputs": [
    {
     "name": "stdout",
     "output_type": "stream",
     "text": [
      "CONFUSION MATRIX\n",
      "[[56854    10]\n",
      " [   15    83]] \n",
      "\n",
      "CLASSIFICATION REPORT\n",
      "              precision    recall  f1-score   support\n",
      "\n",
      "           0    0.99974   0.99982   0.99978     56864\n",
      "           1    0.89247   0.84694   0.86911        98\n",
      "\n",
      "    accuracy                        0.99956     56962\n",
      "   macro avg    0.94610   0.92338   0.93445     56962\n",
      "weighted avg    0.99955   0.99956   0.99956     56962\n",
      "\n",
      "SCALAR METRICS\n",
      "          MCC = 0.86919\n",
      "        AUPRC = 0.85098\n",
      "        AUROC = 0.95924\n",
      "Cohen's kappa = 0.86889\n",
      "     Accuracy = 0.99956\n"
     ]
    }
   ],
   "source": [
    "classification_eval(grid_rf, X_test, y_test)"
   ]
  },
  {
   "cell_type": "code",
   "execution_count": null,
   "metadata": {},
   "outputs": [],
   "source": [
    "\n",
    "The random forest is better model, which obtained an MCC of 0.859 on the evaluation experiments.\n"
   ]
  },
  {
   "cell_type": "code",
   "execution_count": null,
   "metadata": {},
   "outputs": [],
   "source": []
  }
 ],
 "metadata": {
  "kernelspec": {
   "display_name": "Python 3",
   "language": "python",
   "name": "python3"
  },
  "language_info": {
   "codemirror_mode": {
    "name": "ipython",
    "version": 3
   },
   "file_extension": ".py",
   "mimetype": "text/x-python",
   "name": "python",
   "nbconvert_exporter": "python",
   "pygments_lexer": "ipython3",
   "version": "3.8.3"
  }
 },
 "nbformat": 4,
 "nbformat_minor": 4
}
